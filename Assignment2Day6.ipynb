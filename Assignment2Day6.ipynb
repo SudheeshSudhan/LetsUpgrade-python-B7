{
  "nbformat": 4,
  "nbformat_minor": 0,
  "metadata": {
    "colab": {
      "name": "Assignment2Day6.ipynb",
      "provenance": [],
      "collapsed_sections": [],
      "authorship_tag": "ABX9TyPfzw0tyP4d/q0oUn3WU3w3",
      "include_colab_link": true
    },
    "kernelspec": {
      "name": "python3",
      "display_name": "Python 3"
    }
  },
  "cells": [
    {
      "cell_type": "markdown",
      "metadata": {
        "id": "view-in-github",
        "colab_type": "text"
      },
      "source": [
        "<a href=\"https://colab.research.google.com/github/SudheeshSudhan/LetsUpgrade-python-B7/blob/master/Assignment2Day6.ipynb\" target=\"_parent\"><img src=\"https://colab.research.google.com/assets/colab-badge.svg\" alt=\"Open In Colab\"/></a>"
      ]
    },
    {
      "cell_type": "code",
      "metadata": {
        "id": "6nLE1GqGyqGA",
        "colab_type": "code",
        "colab": {
          "base_uri": "https://localhost:8080/",
          "height": 136
        },
        "outputId": "72af172f-0c40-4e28-e265-14e6c9f6a685"
      },
      "source": [
        "import math\n",
        "class Cone():\n",
        " def __init__(self, r, h):\n",
        "  self.radius = r\n",
        "  self.height = h\n",
        " \n",
        " def volume(self):\n",
        "   print(\"Volume of the Cone:\")\n",
        "   return 3.14*self.radius*self.radius*(self.height/3)\n",
        " \n",
        " def surface_area(self):\n",
        "   print(\"Base Area of the Cone:\")\n",
        "   print(3.14*self.radius*self.radius)\n",
        "   print(\"Side area of the Cone:\")\n",
        "   print(3.14*self.radius*math.sqrt((self.radius*self.radius)+(self.height*self.height)))\n",
        "newCone = Cone(40, 50)\n",
        "print(newCone.volume())\n",
        "newCone = Cone(4, 5)\n",
        "print(newCone.surface_area())"
      ],
      "execution_count": 20,
      "outputs": [
        {
          "output_type": "stream",
          "text": [
            "Volume of the Cone:\n",
            "83733.33333333334\n",
            "Base Area of the Cone:\n",
            "50.24\n",
            "Side area of the Cone:\n",
            "80.42324042215658\n",
            "None\n"
          ],
          "name": "stdout"
        }
      ]
    }
  ]
}