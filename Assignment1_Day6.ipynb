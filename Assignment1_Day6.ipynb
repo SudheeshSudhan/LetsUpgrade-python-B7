{
  "nbformat": 4,
  "nbformat_minor": 0,
  "metadata": {
    "colab": {
      "name": "Assignment1 Day6.ipynb",
      "provenance": [],
      "authorship_tag": "ABX9TyOjc2WJOnt9ySpcqurUam7K",
      "include_colab_link": true
    },
    "kernelspec": {
      "name": "python3",
      "display_name": "Python 3"
    }
  },
  "cells": [
    {
      "cell_type": "markdown",
      "metadata": {
        "id": "view-in-github",
        "colab_type": "text"
      },
      "source": [
        "<a href=\"https://colab.research.google.com/github/SudheeshSudhan/LetsUpgrade-python-B7/blob/master/Assignment1_Day6.ipynb\" target=\"_parent\"><img src=\"https://colab.research.google.com/assets/colab-badge.svg\" alt=\"Open In Colab\"/></a>"
      ]
    },
    {
      "cell_type": "code",
      "metadata": {
        "id": "7g6HOS8D881F",
        "colab_type": "code",
        "colab": {}
      },
      "source": [
        "class BankAccount:\n",
        " def __int__(self,OwnerName, Balance):\n",
        "  self.OwnerName = OwnerName\n",
        "  self.Balance = 0\n",
        "  print(\"Hello ! You are Welcome !\")\n",
        " def deposit(self):\n",
        "  amount=float(input(\"Enter amount to be Deposited:\"))\n",
        "  self.balance += amount\n",
        "  print(\"\\n Amount Deposited:\", amount)\n",
        "def withdraw(self):\n",
        "  amount=float(input(\"Enter amount to be Withdrawn:\"))\n",
        "  if self.balance >= amount:   \n",
        "   self.balance -=amount    \n",
        "   print(\"\\n You withdrew:\", amount)   \n",
        "  else:   \n",
        "   prnit(\"/n Insufficient Balance\")"
      ],
      "execution_count": 1,
      "outputs": []
    },
    {
      "cell_type": "code",
      "metadata": {
        "id": "k040ushpDZL3",
        "colab_type": "code",
        "colab": {
          "base_uri": "https://localhost:8080/",
          "height": 304
        },
        "outputId": "aee6d5a3-b305-4a99-d9a0-35c7f44a3f3e"
      },
      "source": [
        "s = BankAccount\n",
        "s.withdraw(1000)"
      ],
      "execution_count": null,
      "outputs": [
        {
          "output_type": "error",
          "ename": "AttributeError",
          "evalue": "ignored",
          "traceback": [
            "\u001b[0;31m---------------------------------------------------------------------------\u001b[0m",
            "\u001b[0;31mAttributeError\u001b[0m                            Traceback (most recent call last)",
            "\u001b[0;32m<ipython-input-29-643c674eb6cd>\u001b[0m in \u001b[0;36m<module>\u001b[0;34m()\u001b[0m\n\u001b[1;32m      1\u001b[0m \u001b[0ms\u001b[0m \u001b[0;34m=\u001b[0m \u001b[0mBankAccount\u001b[0m\u001b[0;34m\u001b[0m\u001b[0;34m\u001b[0m\u001b[0m\n\u001b[0;32m----> 2\u001b[0;31m \u001b[0ms\u001b[0m\u001b[0;34m.\u001b[0m\u001b[0mwithdraw\u001b[0m\u001b[0;34m(\u001b[0m\u001b[0;36m1000\u001b[0m\u001b[0;34m)\u001b[0m\u001b[0;34m\u001b[0m\u001b[0;34m\u001b[0m\u001b[0m\n\u001b[0m",
            "\u001b[0;31mAttributeError\u001b[0m: type object 'BankAccount' has no attribute 'withdraw'"
          ]
        }
      ]
    }
  ]
}