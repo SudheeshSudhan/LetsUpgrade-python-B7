{
  "nbformat": 4,
  "nbformat_minor": 0,
  "metadata": {
    "colab": {
      "name": "assingment day1.ipynb",
      "provenance": [],
      "collapsed_sections": [],
      "authorship_tag": "ABX9TyNEgMvqkpOPHzJxf432VIf8",
      "include_colab_link": true
    },
    "kernelspec": {
      "name": "python3",
      "display_name": "Python 3"
    }
  },
  "cells": [
    {
      "cell_type": "markdown",
      "metadata": {
        "id": "view-in-github",
        "colab_type": "text"
      },
      "source": [
        "<a href=\"https://colab.research.google.com/github/SudheeshSudhan/LetsUpgrade-python-B7/blob/master/assingment_day1.ipynb\" target=\"_parent\"><img src=\"https://colab.research.google.com/assets/colab-badge.svg\" alt=\"Open In Colab\"/></a>"
      ]
    },
    {
      "cell_type": "code",
      "metadata": {
        "id": "GEIP3nt9-1kt",
        "colab_type": "code",
        "colab": {}
      },
      "source": [
        ""
      ],
      "execution_count": null,
      "outputs": []
    },
    {
      "cell_type": "markdown",
      "metadata": {
        "id": "K3gzzZnF_QHN",
        "colab_type": "text"
      },
      "source": [
        "ASSINGMENT DAY 1\n",
        " \n",
        "LIST and Its default fuctions\n",
        " \n",
        " 1, List append()\n",
        "Append() add methode adds an item to the end of the list.\n",
        " \n",
        "2, List extend()\n",
        "Extend() methode add all the elements of an iterable to the end of the list.\n",
        " \n",
        "3, List insert()\n",
        "Insert() methode insert an element to the list at the specifeid index.\n",
        " \n",
        "4, List remove()\n",
        "Remove() methode removes the first matching element from the list.\n",
        " \n",
        "5, List count()\n",
        "Count () methode returns the number of items the  specified element in the list.\n",
        " \n",
        "Dictionary and List functions\n",
        " \n",
        "1, popitem()\n",
        "Removes a particular item in a ditionary.\n",
        " \n",
        "2, clear()\n",
        "Removes all items from the dictionary.\n",
        " \n",
        "3, items()\n",
        "Return a new object of the dictionary's items in (key, value) format.\n",
        " \n",
        "4, keys()\n",
        "Returns a new object of the dictionary's key.\n",
        " \n",
        "5, values()\n",
        "Returns a new object of the dictionary's values.\n",
        " \n",
        " \n",
        "Sets and its default functions\n",
        " \n",
        "1, add()\n",
        "Adds an element to the set.\n",
        " \n",
        "2, clear()\n",
        "Removes all elements from tje set\n",
        " \n",
        "3, copy()\n",
        "Returns a copy of the set.\n",
        " \n",
        "4, difference()\n",
        "Returns the different of two or more sets as a new set.\n",
        " \n",
        "5, union()\n",
        "Returns the union of sets in a new set.\n",
        " \n",
        "Tuples and explore default methodes\n",
        " \n",
        "1, count()\n",
        "Returns the number of times a specified values occurs in atuple.\n",
        "2, index()\n",
        "Searches the tuple for a specified value and returns the position of where it was found.\n",
        " \n",
        "Strings and explore default methodes\n",
        " \n",
        "1, capatalize()\n",
        "Converts the first character o upper case.\n",
        "2,Casefold() \n",
        "Converts string into lower case.\n",
        "3, center()\n",
        "Returns a centered string.\n",
        "4, count()\n",
        "Returns the number of times a specified value occurs in a string.\n",
        "5, encode()\n",
        "Returns an encode version of the string."
      ]
    },
    {
      "cell_type": "code",
      "metadata": {
        "id": "8QdJUWxDGG10",
        "colab_type": "code",
        "colab": {}
      },
      "source": [
        ""
      ],
      "execution_count": null,
      "outputs": []
    },
    {
      "cell_type": "code",
      "metadata": {
        "id": "oVd5xVq1GGy6",
        "colab_type": "code",
        "colab": {}
      },
      "source": [
        ""
      ],
      "execution_count": null,
      "outputs": []
    },
    {
      "cell_type": "markdown",
      "metadata": {
        "id": "SZgKLQro-3lB",
        "colab_type": "text"
      },
      "source": [
        ""
      ]
    },
    {
      "cell_type": "code",
      "metadata": {
        "id": "NlIecWeU-8VF",
        "colab_type": "code",
        "colab": {}
      },
      "source": [
        ""
      ],
      "execution_count": null,
      "outputs": []
    }
  ]
}