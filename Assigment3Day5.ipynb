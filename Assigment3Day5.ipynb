{
  "nbformat": 4,
  "nbformat_minor": 0,
  "metadata": {
    "colab": {
      "name": "Assigment3Day5.ipynb",
      "provenance": [],
      "authorship_tag": "ABX9TyO/HYf39PxytM+Yp3qJkSMK",
      "include_colab_link": true
    },
    "kernelspec": {
      "name": "python3",
      "display_name": "Python 3"
    }
  },
  "cells": [
    {
      "cell_type": "markdown",
      "metadata": {
        "id": "view-in-github",
        "colab_type": "text"
      },
      "source": [
        "<a href=\"https://colab.research.google.com/github/SudheeshSudhan/LetsUpgrade-python-B7/blob/master/Assigment3Day5.ipynb\" target=\"_parent\"><img src=\"https://colab.research.google.com/assets/colab-badge.svg\" alt=\"Open In Colab\"/></a>"
      ]
    },
    {
      "cell_type": "code",
      "metadata": {
        "id": "hYPG_V-TJFNx",
        "colab_type": "code",
        "colab": {
          "base_uri": "https://localhost:8080/",
          "height": 34
        },
        "outputId": "89fb63d6-a8a0-4af3-8ea5-3682059604a0"
      },
      "source": [
        "def uppercaseof(anystring):\n",
        " return anystring.upper()\n",
        "print(uppercaseof(\"hey this is sai, i am in mumbai\"))"
      ],
      "execution_count": null,
      "outputs": [
        {
          "output_type": "stream",
          "text": [
            "HEY THIS IS SAI, I AM IN MUMBAI\n"
          ],
          "name": "stdout"
        }
      ]
    }
  ]
}