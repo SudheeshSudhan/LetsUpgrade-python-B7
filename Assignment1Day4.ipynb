{
  "nbformat": 4,
  "nbformat_minor": 0,
  "metadata": {
    "colab": {
      "name": "Assignment1Day4.ipynb",
      "provenance": [],
      "authorship_tag": "ABX9TyOcttN6L9QQqhMBuhOAPqLc",
      "include_colab_link": true
    },
    "kernelspec": {
      "name": "python3",
      "display_name": "Python 3"
    }
  },
  "cells": [
    {
      "cell_type": "markdown",
      "metadata": {
        "id": "view-in-github",
        "colab_type": "text"
      },
      "source": [
        "<a href=\"https://colab.research.google.com/github/SudheeshSudhan/LetsUpgrade-python-B7/blob/master/Assignment1Day4.ipynb\" target=\"_parent\"><img src=\"https://colab.research.google.com/assets/colab-badge.svg\" alt=\"Open In Colab\"/></a>"
      ]
    },
    {
      "cell_type": "code",
      "metadata": {
        "id": "Yk_kiR1F6cut",
        "colab_type": "code",
        "colab": {
          "base_uri": "https://localhost:8080/",
          "height": 187
        },
        "outputId": "9ee1dcb2-629d-481a-8c43-e9b04d7a4618"
      },
      "source": [
        "lower=1042000\n",
        "upper=702648265\n",
        "for num in range(lower, upper + 1):\n",
        "  order = len(str(num))\n",
        "  sum = 0\n",
        "  temp = num\n",
        "  while temp > 0:\n",
        "    digit = temp % 10\n",
        "    sum += digit ** order\n",
        "    temp //= 10\n",
        "  if num == sum:\n",
        "    print(num)"
      ],
      "execution_count": null,
      "outputs": [
        {
          "output_type": "stream",
          "text": [
            "1741725\n",
            "4210818\n",
            "9800817\n",
            "9926315\n",
            "24678050\n",
            "24678051\n",
            "88593477\n",
            "146511208\n",
            "472335975\n",
            "534494836\n"
          ],
          "name": "stdout"
        }
      ]
    }
  ]
}