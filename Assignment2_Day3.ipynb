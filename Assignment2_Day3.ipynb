{
  "nbformat": 4,
  "nbformat_minor": 0,
  "metadata": {
    "colab": {
      "name": "Assignment2 Day3.ipynb",
      "provenance": [],
      "authorship_tag": "ABX9TyN36vmlpTpwuH+8gLdzBz1n",
      "include_colab_link": true
    },
    "kernelspec": {
      "name": "python3",
      "display_name": "Python 3"
    }
  },
  "cells": [
    {
      "cell_type": "markdown",
      "metadata": {
        "id": "view-in-github",
        "colab_type": "text"
      },
      "source": [
        "<a href=\"https://colab.research.google.com/github/SudheeshSudhan/LetsUpgrade-python-B7/blob/master/Assignment2_Day3.ipynb\" target=\"_parent\"><img src=\"https://colab.research.google.com/assets/colab-badge.svg\" alt=\"Open In Colab\"/></a>"
      ]
    },
    {
      "cell_type": "code",
      "metadata": {
        "id": "ICbPeXvc3Obq",
        "colab_type": "code",
        "colab": {
          "base_uri": "https://localhost:8080/",
          "height": 54
        },
        "outputId": "ec6215f5-83b2-4f43-8e74-2a918a57aaeb"
      },
      "source": [
        "for Number in range (1, 200):\n",
        " count = 0\n",
        " for i in range(2, (Number//2 + 1)):\n",
        "  if(Number % i == 0):\n",
        "   count = count + 1\n",
        "   break\n",
        " if (count == 0 and Number != 1):\n",
        "  print(\"%d\" %Number,  end = ' ')"
      ],
      "execution_count": null,
      "outputs": [
        {
          "output_type": "stream",
          "text": [
            "2 3 5 7 11 13 17 19 23 29 31 37 41 43 47 53 59 61 67 71 73 79 83 89 97 101 103 107 109 113 127 131 137 139 149 151 157 163 167 173 179 181 191 193 197 199 "
          ],
          "name": "stdout"
        }
      ]
    }
  ]
}