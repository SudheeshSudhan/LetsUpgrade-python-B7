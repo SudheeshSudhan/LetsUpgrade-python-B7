{
  "nbformat": 4,
  "nbformat_minor": 0,
  "metadata": {
    "colab": {
      "name": "Assignment1Day9.ipynb",
      "provenance": [],
      "collapsed_sections": [],
      "authorship_tag": "ABX9TyNr0tB+TdnFKZfl9eFbtM51",
      "include_colab_link": true
    },
    "kernelspec": {
      "name": "python3",
      "display_name": "Python 3"
    }
  },
  "cells": [
    {
      "cell_type": "markdown",
      "metadata": {
        "id": "view-in-github",
        "colab_type": "text"
      },
      "source": [
        "<a href=\"https://colab.research.google.com/github/SudheeshSudhan/LetsUpgrade-python-B7/blob/master/Assignment1Day9.ipynb\" target=\"_parent\"><img src=\"https://colab.research.google.com/assets/colab-badge.svg\" alt=\"Open In Colab\"/></a>"
      ]
    },
    {
      "cell_type": "code",
      "metadata": {
        "id": "mYFaXCv2ORRp",
        "colab_type": "code",
        "colab": {
          "base_uri": "https://localhost:8080/",
          "height": 71
        },
        "outputId": "337de176-1b24-4f5a-9094-fbb4b066a8b5"
      },
      "source": [
        "def test_prime():\n",
        " n = int(input(\"Enter the number:\"))\n",
        " if(n % 2==1):\n",
        "  print(\"Prime\")\n",
        " elif(n==2):\n",
        "   print(\"Prime\")\n",
        " else:\n",
        "  print(\"Not prime\")\n",
        "test_prime()"
      ],
      "execution_count": null,
      "outputs": [
        {
          "output_type": "stream",
          "text": [
            "Enter the number:97533678987654321135789\n",
            "Prime\n"
          ],
          "name": "stdout"
        }
      ]
    }
  ]
}